{
 "cells": [
  {
   "cell_type": "markdown",
   "metadata": {},
   "source": [
    "# Prometheus Anomaly Detection\n",
    "This notebook will give an introduction to how we can perform anomaly detection for Prometheus metrics using a machine learning time series forecasting model. Before we dive into the data science work, let's understand the problem.\n",
    "\n",
    "## Understanding the Problem\n",
    "Prometheus is the chosen application to do monitoring across multiple products and platforms. Prometheus metrics are time series data identified by metric name and key/value pairs. With the increased amount of metrics flowing in it is getting harder to see the signals within the noise. The current state of the art is to graph out metrics on dashboards and alert on thresholds. \n",
    "\n",
    "However, we can leverage machine learning algorithms to perform time series forecasting and predict an unusual behavior or pattern in the metrics. The predicted values from the model can be compared with the actual metric values and if they differ from the default threshold values, we can flag it as an **anomaly**. Before we start looking at any machine learning model, let's try to understand the data.\n",
    "\n",
    "## Understanding the Data\n",
    "As we saw in the previous Prometheus API client notebook, Prometheus metrics are time series data identified by:\n",
    "* **metric name**\n",
    "* **labels**\n",
    "\n",
    "Open the Prometheus UI and see for yourself what the metrics look like!\n",
    "\n",
    "Any given combination of labels for the same metric name identifies a particular dimensional instantiation of that metric. Each metric consists of a timestamp and its corresponding value at that timestamp. Prometheus comprises of four metric types:\n",
    "* **Counter**\n",
    "* **Gauge**\n",
    "* **Histogram**\n",
    "* **Summary**\n",
    "\n",
    "You can find more details about these metrics here: https://prometheus.io/docs/concepts/metric_types/. \n",
    "\n",
    "In this notebook we will walk through some of the essential steps required for training a machine learning model to predict anomalies on a sample Prometheus time series metrics data set:\n",
    "\n",
    "## Data Preparation & Data Exploration\n",
    "Bad data or poor quality of data can alter the accuracy of insights or could lead to incorrect insights, which is why data preparation or data cleaning is of utmost importance even though it is one of the time consuming tasks of the data science process. Some of the tasks in our data pre-processing are:\n",
    "\n",
    "* Load sample metric data set (Json)\n",
    "* Convert the raw metric data into suitable pandas dataframe using the Prometheus API client\n",
    "* Compress the timeseries into suitable (1h/ 0.5h/ 0.25/) frequency for training the model\n",
    "\n",
    "## Model Data\n",
    "This is when the real fun starts. Machine learning algorithms can help you go a step further into getting insights and predicting future trends. Once again, before reaching this stage, bear in mind that the scrubbing and exploring stage are equally crucial to building useful models. So take your time on those stages instead of jumping right to this process. During this stage we will:\n",
    "* Train a ML model\n",
    "* Forecast the predictions on a test data set\n",
    "* Evaluate the predictions for detecting anomalies"
   ]
  },
  {
   "cell_type": "markdown",
   "metadata": {},
   "source": [
    "To begin, let's install the required packages/modules"
   ]
  },
  {
   "cell_type": "code",
   "execution_count": 1,
   "metadata": {},
   "outputs": [
    {
     "name": "stdout",
     "output_type": "stream",
     "text": [
      "Requirement already satisfied: prometheus-api-client in /opt/app-root/lib/python3.6/site-packages (0.4.1)\n",
      "Requirement already satisfied: requests in /opt/app-root/lib/python3.6/site-packages (from prometheus-api-client) (2.22.0)\n",
      "Requirement already satisfied: dateparser in /opt/app-root/lib/python3.6/site-packages (from prometheus-api-client) (0.7.6)\n",
      "Requirement already satisfied: pandas>=1.0.0 in /opt/app-root/lib/python3.6/site-packages (from prometheus-api-client) (1.1.2)\n",
      "Requirement already satisfied: numpy in /opt/app-root/lib/python3.6/site-packages (from prometheus-api-client) (1.19.2)\n",
      "Requirement already satisfied: urllib3!=1.25.0,!=1.25.1,<1.26,>=1.21.1 in /opt/app-root/lib/python3.6/site-packages (from requests->prometheus-api-client) (1.25.7)\n",
      "Requirement already satisfied: chardet<3.1.0,>=3.0.2 in /opt/app-root/lib/python3.6/site-packages (from requests->prometheus-api-client) (3.0.4)\n",
      "Requirement already satisfied: certifi>=2017.4.17 in /opt/app-root/lib/python3.6/site-packages (from requests->prometheus-api-client) (2019.11.28)\n",
      "Requirement already satisfied: idna<2.9,>=2.5 in /opt/app-root/lib/python3.6/site-packages (from requests->prometheus-api-client) (2.8)\n",
      "Requirement already satisfied: tzlocal in /opt/app-root/lib/python3.6/site-packages (from dateparser->prometheus-api-client) (2.1)\n",
      "Requirement already satisfied: python-dateutil in /opt/app-root/lib/python3.6/site-packages (from dateparser->prometheus-api-client) (2.8.1)\n",
      "Requirement already satisfied: pytz in /opt/app-root/lib/python3.6/site-packages (from dateparser->prometheus-api-client) (2020.1)\n",
      "Requirement already satisfied: regex!=2019.02.19 in /opt/app-root/lib/python3.6/site-packages (from dateparser->prometheus-api-client) (2020.7.14)\n",
      "Requirement already satisfied: six>=1.5 in /opt/app-root/lib/python3.6/site-packages (from python-dateutil->dateparser->prometheus-api-client) (1.13.0)\n",
      "\u001b[33mWARNING: You are using pip version 19.3.1; however, version 20.2.3 is available.\n",
      "You should consider upgrading via the 'pip install --upgrade pip' command.\u001b[0m\n",
      "Collecting pmdarima\n",
      "\u001b[?25l  Downloading https://files.pythonhosted.org/packages/be/62/725b3b6ae0e56c77534de5a8139322e7b863ca53fd5bd6bd3b7de87d0c20/pmdarima-1.7.1-cp36-cp36m-manylinux1_x86_64.whl (1.5MB)\n",
      "\u001b[K     |████████████████████████████████| 1.5MB 5.6MB/s eta 0:00:01\n",
      "\u001b[?25hCollecting Cython<0.29.18,>=0.29\n",
      "\u001b[?25l  Downloading https://files.pythonhosted.org/packages/e7/d7/510ddef0248f3e1e91f9cc7e31c0f35f8954d0af92c5c3fd4c853e859ebe/Cython-0.29.17-cp36-cp36m-manylinux1_x86_64.whl (2.1MB)\n",
      "\u001b[K     |████████████████████████████████| 2.1MB 18.7MB/s eta 0:00:01\n",
      "\u001b[?25hRequirement already satisfied: numpy>=1.17.3 in /opt/app-root/lib/python3.6/site-packages (from pmdarima) (1.19.2)\n",
      "Requirement already satisfied: urllib3 in /opt/app-root/lib/python3.6/site-packages (from pmdarima) (1.25.7)\n",
      "Requirement already satisfied: pandas>=0.19 in /opt/app-root/lib/python3.6/site-packages (from pmdarima) (1.1.2)\n",
      "Requirement already satisfied: setuptools<50.0.0 in /opt/app-root/lib/python3.6/site-packages (from pmdarima) (42.0.1)\n",
      "Collecting joblib>=0.11\n",
      "\u001b[?25l  Downloading https://files.pythonhosted.org/packages/51/dd/0e015051b4a27ec5a58b02ab774059f3289a94b0906f880a3f9507e74f38/joblib-0.16.0-py3-none-any.whl (300kB)\n",
      "\u001b[K     |████████████████████████████████| 307kB 17.8MB/s eta 0:00:01\n",
      "\u001b[?25hCollecting scipy>=1.3.2\n",
      "\u001b[?25l  Downloading https://files.pythonhosted.org/packages/2b/a8/f4c66eb529bb252d50e83dbf2909c6502e2f857550f22571ed8556f62d95/scipy-1.5.2-cp36-cp36m-manylinux1_x86_64.whl (25.9MB)\n",
      "\u001b[K     |████████████████████████████████| 25.9MB 19.7MB/s eta 0:00:01    |███████                         | 5.7MB 18.3MB/s eta 0:00:02     | 17.0MB 19.7MB/s eta 0:00:01\n",
      "\u001b[?25hCollecting statsmodels<0.12,>=0.11\n",
      "\u001b[?25l  Downloading https://files.pythonhosted.org/packages/cb/83/540fd83238a18abe6c2d280fa8e489ac5fcefa1f370f0ca1acd16ae1b860/statsmodels-0.11.1-cp36-cp36m-manylinux1_x86_64.whl (8.7MB)\n",
      "\u001b[K     |████████████████████████████████| 8.7MB 34.3MB/s eta 0:00:01     |████████▌                       | 2.3MB 34.3MB/s eta 0:00:01\n",
      "\u001b[?25hCollecting scikit-learn>=0.22\n",
      "\u001b[?25l  Downloading https://files.pythonhosted.org/packages/5c/a1/273def87037a7fb010512bbc5901c31cfddfca8080bc63b42b26e3cc55b3/scikit_learn-0.23.2-cp36-cp36m-manylinux1_x86_64.whl (6.8MB)\n",
      "\u001b[K     |████████████████████████████████| 6.8MB 19.0MB/s eta 0:00:01     |███████████                     | 2.4MB 19.0MB/s eta 0:00:01     |███████████████████████▋        | 5.0MB 19.0MB/s eta 0:00:01\n",
      "\u001b[?25hRequirement already satisfied: python-dateutil>=2.7.3 in /opt/app-root/lib/python3.6/site-packages (from pandas>=0.19->pmdarima) (2.8.1)\n",
      "Requirement already satisfied: pytz>=2017.2 in /opt/app-root/lib/python3.6/site-packages (from pandas>=0.19->pmdarima) (2020.1)\n",
      "Collecting patsy>=0.5\n",
      "\u001b[?25l  Downloading https://files.pythonhosted.org/packages/ea/0c/5f61f1a3d4385d6bf83b83ea495068857ff8dfb89e74824c6e9eb63286d8/patsy-0.5.1-py2.py3-none-any.whl (231kB)\n",
      "\u001b[K     |████████████████████████████████| 235kB 13.6MB/s eta 0:00:01\n",
      "\u001b[?25hCollecting threadpoolctl>=2.0.0\n",
      "  Downloading https://files.pythonhosted.org/packages/f7/12/ec3f2e203afa394a149911729357aa48affc59c20e2c1c8297a60f33f133/threadpoolctl-2.1.0-py3-none-any.whl\n",
      "Requirement already satisfied: six>=1.5 in /opt/app-root/lib/python3.6/site-packages (from python-dateutil>=2.7.3->pandas>=0.19->pmdarima) (1.13.0)\n",
      "Installing collected packages: Cython, joblib, scipy, patsy, statsmodels, threadpoolctl, scikit-learn, pmdarima\n",
      "Successfully installed Cython-0.29.17 joblib-0.16.0 patsy-0.5.1 pmdarima-1.7.1 scikit-learn-0.23.2 scipy-1.5.2 statsmodels-0.11.1 threadpoolctl-2.1.0\n",
      "\u001b[33mWARNING: You are using pip version 19.3.1; however, version 20.2.3 is available.\n",
      "You should consider upgrading via the 'pip install --upgrade pip' command.\u001b[0m\n",
      "Collecting matplotlib\n",
      "\u001b[?25l  Downloading https://files.pythonhosted.org/packages/cd/d6/8c4dfb23151d5a494c66ebbfdb5c8c433b44ec07fae52da5939fcda0943f/matplotlib-3.3.2-cp36-cp36m-manylinux1_x86_64.whl (11.6MB)\n",
      "\u001b[K     |████████████████████████████████| 11.6MB 1.1MB/s eta 0:00:01     |████████████████████████████▏   | 10.2MB 1.1MB/s eta 0:00:02\n",
      "\u001b[?25hCollecting cycler>=0.10\n",
      "  Downloading https://files.pythonhosted.org/packages/f7/d2/e07d3ebb2bd7af696440ce7e754c59dd546ffe1bbe732c8ab68b9c834e61/cycler-0.10.0-py2.py3-none-any.whl\n",
      "Requirement already satisfied: python-dateutil>=2.1 in /opt/app-root/lib/python3.6/site-packages (from matplotlib) (2.8.1)\n",
      "Collecting kiwisolver>=1.0.1\n",
      "\u001b[?25l  Downloading https://files.pythonhosted.org/packages/ae/23/147de658aabbf968324551ea22c0c13a00284c4ef49a77002e91f79657b7/kiwisolver-1.2.0-cp36-cp36m-manylinux1_x86_64.whl (88kB)\n",
      "\u001b[K     |████████████████████████████████| 92kB 12.0MB/s eta 0:00:01\n",
      "\u001b[?25hCollecting pillow>=6.2.0\n",
      "\u001b[?25l  Downloading https://files.pythonhosted.org/packages/30/bf/92385b4262178ca22b34f82e0e09c2922eb351fe39f3cc7b8ba9ea555b41/Pillow-7.2.0-cp36-cp36m-manylinux1_x86_64.whl (2.2MB)\n",
      "\u001b[K     |████████████████████████████████| 2.2MB 21.4MB/s eta 0:00:01\n",
      "\u001b[?25hCollecting pyparsing!=2.0.4,!=2.1.2,!=2.1.6,>=2.0.3\n",
      "\u001b[?25l  Downloading https://files.pythonhosted.org/packages/8a/bb/488841f56197b13700afd5658fc279a2025a39e22449b7cf29864669b15d/pyparsing-2.4.7-py2.py3-none-any.whl (67kB)\n",
      "\u001b[K     |████████████████████████████████| 71kB 20.4MB/s eta 0:00:01\n",
      "\u001b[?25hCollecting certifi>=2020.06.20\n",
      "\u001b[?25l  Downloading https://files.pythonhosted.org/packages/5e/c4/6c4fe722df5343c33226f0b4e0bb042e4dc13483228b4718baf286f86d87/certifi-2020.6.20-py2.py3-none-any.whl (156kB)\n",
      "\u001b[K     |████████████████████████████████| 163kB 23.5MB/s eta 0:00:01\n",
      "\u001b[?25hRequirement already satisfied: numpy>=1.15 in /opt/app-root/lib/python3.6/site-packages (from matplotlib) (1.19.2)\n",
      "Requirement already satisfied: six in /opt/app-root/lib/python3.6/site-packages (from cycler>=0.10->matplotlib) (1.13.0)\n",
      "Installing collected packages: cycler, kiwisolver, pillow, pyparsing, certifi, matplotlib\n",
      "  Found existing installation: certifi 2019.11.28\n",
      "    Uninstalling certifi-2019.11.28:\n",
      "      Successfully uninstalled certifi-2019.11.28\n",
      "Successfully installed certifi-2020.6.20 cycler-0.10.0 kiwisolver-1.2.0 matplotlib-3.3.2 pillow-7.2.0 pyparsing-2.4.7\n",
      "\u001b[33mWARNING: You are using pip version 19.3.1; however, version 20.2.3 is available.\r\n",
      "You should consider upgrading via the 'pip install --upgrade pip' command.\u001b[0m\r\n"
     ]
    }
   ],
   "source": [
    "#We will be using the prometheus-api-client for formatting the metrics data and the pmdarima package for the ML model\n",
    "!pip3 install prometheus-api-client\n",
    "!pip3 install pmdarima\n",
    "!pip3 install matplotlib"
   ]
  },
  {
   "cell_type": "markdown",
   "metadata": {},
   "source": [
    "These are all the required modules/packages needed for all the fancy data science work!"
   ]
  },
  {
   "cell_type": "code",
   "execution_count": 2,
   "metadata": {},
   "outputs": [],
   "source": [
    "import os\n",
    "import time\n",
    "import random\n",
    "import warnings\n",
    "import numpy as np\n",
    "import matplotlib.pyplot as plt\n",
    "import math\n",
    "\n",
    "import json as JS\n",
    "from json import load\n",
    "from json import loads\n",
    "from datetime import datetime\n",
    "\n",
    "from pmdarima.arima import auto_arima\n",
    "import statsmodels.api as sm\n",
    "from itertools import product\n",
    "\n",
    "from statsmodels.tsa.stattools import adfuller\n",
    "from statsmodels.tsa.seasonal import seasonal_decompose\n",
    "from statsmodels.tsa.arima_model import ARIMA\n",
    "from statsmodels.tsa.statespace.sarimax import SARIMAX\n",
    "from statsmodels.graphics.tsaplots import plot_acf, plot_pacf\n",
    "from sklearn.model_selection import train_test_split\n",
    "from sklearn.metrics import mean_squared_error\n",
    "\n",
    "import pandas as pd\n",
    "from pandas.io.json import json_normalize\n",
    "from pandas.plotting import autocorrelation_plot\n",
    "from pandas.plotting import register_matplotlib_converters\n",
    "from prometheus_api_client import Metric, MetricsList, PrometheusConnect\n",
    "from prometheus_api_client.utils import parse_datetime, parse_timedelta"
   ]
  },
  {
   "cell_type": "markdown",
   "metadata": {},
   "source": [
    "## Data Preparation"
   ]
  },
  {
   "cell_type": "markdown",
   "metadata": {},
   "source": [
    "### Load and Explore Time Series Data"
   ]
  },
  {
   "cell_type": "markdown",
   "metadata": {},
   "source": [
    "The dataset we will be using are Prometheus read/write metrics collected from a Dgraph application. Dgraph is an open-source, scalable, distributed, highly available and fast graph database, designed from the ground up to be run in production. The Dgraph instance provides metrics that follow Prometheus standards. One of the metrics are the disk metrics which track the disk activity of the Dgraph process. These metrics can be used for monitoring the read and write to persistent storage."
   ]
  },
  {
   "cell_type": "markdown",
   "metadata": {},
   "source": [
    "Here we are loading the dataset that contains the past 30 days of disk write metrics. "
   ]
  },
  {
   "cell_type": "code",
   "execution_count": 3,
   "metadata": {},
   "outputs": [],
   "source": [
    "raw_data = pd.read_json(\"metrics/prometheus-route-aiops-prod-prometheus-predict.cloud.paas.psi.redhat.com/badger_disk_writes:rate1m/1month of data (Aug 13-Sep 13)/201909131217.json\")"
   ]
  },
  {
   "cell_type": "code",
   "execution_count": 4,
   "metadata": {},
   "outputs": [
    {
     "data": {
      "text/html": [
       "<div>\n",
       "<style scoped>\n",
       "    .dataframe tbody tr th:only-of-type {\n",
       "        vertical-align: middle;\n",
       "    }\n",
       "\n",
       "    .dataframe tbody tr th {\n",
       "        vertical-align: top;\n",
       "    }\n",
       "\n",
       "    .dataframe thead th {\n",
       "        text-align: right;\n",
       "    }\n",
       "</style>\n",
       "<table border=\"1\" class=\"dataframe\">\n",
       "  <thead>\n",
       "    <tr style=\"text-align: right;\">\n",
       "      <th></th>\n",
       "      <th>metric</th>\n",
       "      <th>values</th>\n",
       "    </tr>\n",
       "  </thead>\n",
       "  <tbody>\n",
       "    <tr>\n",
       "      <th>0</th>\n",
       "      <td>{'__name__': 'badger_disk_writes:rate1m', 'ae_...</td>\n",
       "      <td>[[1565799480.825, 0], [1565799540.825, 5.4], [...</td>\n",
       "    </tr>\n",
       "    <tr>\n",
       "      <th>1</th>\n",
       "      <td>{'__name__': 'badger_disk_writes:rate1m', 'ae_...</td>\n",
       "      <td>[[1565799480.825, 0], [1565799540.825, 0], [15...</td>\n",
       "    </tr>\n",
       "    <tr>\n",
       "      <th>2</th>\n",
       "      <td>{'__name__': 'badger_disk_writes:rate1m', 'ae_...</td>\n",
       "      <td>[[1565799480.825, 0], [1565799540.825, 5.4], [...</td>\n",
       "    </tr>\n",
       "    <tr>\n",
       "      <th>3</th>\n",
       "      <td>{'__name__': 'badger_disk_writes:rate1m', 'ae_...</td>\n",
       "      <td>[[1565799480.825, 0], [1565799540.825, 5.4], [...</td>\n",
       "    </tr>\n",
       "    <tr>\n",
       "      <th>4</th>\n",
       "      <td>{'__name__': 'badger_disk_writes:rate1m', 'ae_...</td>\n",
       "      <td>[[1565799480.825, 0], [1565799540.825, 19.95],...</td>\n",
       "    </tr>\n",
       "  </tbody>\n",
       "</table>\n",
       "</div>"
      ],
      "text/plain": [
       "                                              metric  \\\n",
       "0  {'__name__': 'badger_disk_writes:rate1m', 'ae_...   \n",
       "1  {'__name__': 'badger_disk_writes:rate1m', 'ae_...   \n",
       "2  {'__name__': 'badger_disk_writes:rate1m', 'ae_...   \n",
       "3  {'__name__': 'badger_disk_writes:rate1m', 'ae_...   \n",
       "4  {'__name__': 'badger_disk_writes:rate1m', 'ae_...   \n",
       "\n",
       "                                              values  \n",
       "0  [[1565799480.825, 0], [1565799540.825, 5.4], [...  \n",
       "1  [[1565799480.825, 0], [1565799540.825, 0], [15...  \n",
       "2  [[1565799480.825, 0], [1565799540.825, 5.4], [...  \n",
       "3  [[1565799480.825, 0], [1565799540.825, 5.4], [...  \n",
       "4  [[1565799480.825, 0], [1565799540.825, 19.95],...  "
      ]
     },
     "execution_count": 4,
     "metadata": {},
     "output_type": "execute_result"
    }
   ],
   "source": [
    "#display the first few lines of the data\n",
    "raw_data.head()"
   ]
  },
  {
   "cell_type": "markdown",
   "metadata": {},
   "source": [
    "Let's understand the structure of the `raw_data`"
   ]
  },
  {
   "cell_type": "code",
   "execution_count": 5,
   "metadata": {},
   "outputs": [
    {
     "name": "stdout",
     "output_type": "stream",
     "text": [
      "<class 'pandas.core.frame.DataFrame'>\n",
      "11\n"
     ]
    }
   ],
   "source": [
    "print(type(raw_data))\n",
    "print(len(raw_data))"
   ]
  },
  {
   "cell_type": "markdown",
   "metadata": {},
   "source": [
    "**Question 1**: Try loading and viewing any of the `disk_read` metrics data instead"
   ]
  },
  {
   "cell_type": "code",
   "execution_count": 6,
   "metadata": {},
   "outputs": [],
   "source": [
    "#Answer 1\n",
    "raw_data_2 = pd.read_json(\"metrics/prometheus-route-aiops-prod-prometheus-predict.cloud.paas.psi.redhat.com/badger_disk_reads:rate1m/1month of data (Aug 13-Sep 13)/201909131209.json\")"
   ]
  },
  {
   "cell_type": "code",
   "execution_count": 7,
   "metadata": {},
   "outputs": [
    {
     "data": {
      "text/html": [
       "<div>\n",
       "<style scoped>\n",
       "    .dataframe tbody tr th:only-of-type {\n",
       "        vertical-align: middle;\n",
       "    }\n",
       "\n",
       "    .dataframe tbody tr th {\n",
       "        vertical-align: top;\n",
       "    }\n",
       "\n",
       "    .dataframe thead th {\n",
       "        text-align: right;\n",
       "    }\n",
       "</style>\n",
       "<table border=\"1\" class=\"dataframe\">\n",
       "  <thead>\n",
       "    <tr style=\"text-align: right;\">\n",
       "      <th></th>\n",
       "      <th>metric</th>\n",
       "      <th>values</th>\n",
       "    </tr>\n",
       "  </thead>\n",
       "  <tbody>\n",
       "    <tr>\n",
       "      <th>0</th>\n",
       "      <td>{'__name__': 'badger_disk_reads:rate1m', 'ae_s...</td>\n",
       "      <td>[[1565799000.825, 0], [1565799060.825, 0], [15...</td>\n",
       "    </tr>\n",
       "    <tr>\n",
       "      <th>1</th>\n",
       "      <td>{'__name__': 'badger_disk_reads:rate1m', 'ae_s...</td>\n",
       "      <td>[[1565799000.825, 0], [1565799060.825, 0], [15...</td>\n",
       "    </tr>\n",
       "    <tr>\n",
       "      <th>2</th>\n",
       "      <td>{'__name__': 'badger_disk_reads:rate1m', 'ae_s...</td>\n",
       "      <td>[[1565799000.825, 0], [1565799060.825, 0], [15...</td>\n",
       "    </tr>\n",
       "    <tr>\n",
       "      <th>3</th>\n",
       "      <td>{'__name__': 'badger_disk_reads:rate1m', 'ae_s...</td>\n",
       "      <td>[[1565799000.825, 0], [1565799060.825, 0], [15...</td>\n",
       "    </tr>\n",
       "    <tr>\n",
       "      <th>4</th>\n",
       "      <td>{'__name__': 'badger_disk_reads:rate1m', 'ae_s...</td>\n",
       "      <td>[[1565799000.825, 0], [1565799060.825, 0], [15...</td>\n",
       "    </tr>\n",
       "  </tbody>\n",
       "</table>\n",
       "</div>"
      ],
      "text/plain": [
       "                                              metric  \\\n",
       "0  {'__name__': 'badger_disk_reads:rate1m', 'ae_s...   \n",
       "1  {'__name__': 'badger_disk_reads:rate1m', 'ae_s...   \n",
       "2  {'__name__': 'badger_disk_reads:rate1m', 'ae_s...   \n",
       "3  {'__name__': 'badger_disk_reads:rate1m', 'ae_s...   \n",
       "4  {'__name__': 'badger_disk_reads:rate1m', 'ae_s...   \n",
       "\n",
       "                                              values  \n",
       "0  [[1565799000.825, 0], [1565799060.825, 0], [15...  \n",
       "1  [[1565799000.825, 0], [1565799060.825, 0], [15...  \n",
       "2  [[1565799000.825, 0], [1565799060.825, 0], [15...  \n",
       "3  [[1565799000.825, 0], [1565799060.825, 0], [15...  \n",
       "4  [[1565799000.825, 0], [1565799060.825, 0], [15...  "
      ]
     },
     "execution_count": 7,
     "metadata": {},
     "output_type": "execute_result"
    }
   ],
   "source": [
    "#Lets look at the first few lines of this new data\n",
    "raw_data_2.head()"
   ]
  },
  {
   "cell_type": "markdown",
   "metadata": {},
   "source": [
    "### Data Pre-Processing"
   ]
  },
  {
   "cell_type": "markdown",
   "metadata": {},
   "source": [
    "The raw data obtained from Prometheus is not very easy to understand nor is a suitable input for a machine learning model. To convert this raw data into an easier format we will make use of the Prometheus API Client.\n",
    "\n",
    "As we saw in the previous notebook, the Prometheus API client has a `MetricsList` object that creates a list of `Metric` objects, where each object is unique for a specific time-series."
   ]
  },
  {
   "cell_type": "markdown",
   "metadata": {},
   "source": [
    "We will first convert the raw data into a `list` format as this is the input type required by the `MetricsList` function.\n",
    "\n",
    "To know more about the `MetricsList` module, you can refer to the documentation here: https://prometheus-api-client-python.readthedocs.io/en/master/source/prometheus_api_client.html#module-prometheus_api_client.metrics_list "
   ]
  },
  {
   "cell_type": "code",
   "execution_count": 8,
   "metadata": {},
   "outputs": [],
   "source": [
    "metric_data = raw_data.to_dict('records')"
   ]
  },
  {
   "cell_type": "code",
   "execution_count": 9,
   "metadata": {},
   "outputs": [
    {
     "data": {
      "text/plain": [
       "list"
      ]
     },
     "execution_count": 9,
     "metadata": {},
     "output_type": "execute_result"
    }
   ],
   "source": [
    "type(metric_data)"
   ]
  },
  {
   "cell_type": "markdown",
   "metadata": {},
   "source": [
    "Now we can intitalize a `MetricsList` object."
   ]
  },
  {
   "cell_type": "code",
   "execution_count": 10,
   "metadata": {},
   "outputs": [],
   "source": [
    "metrics_object_list = MetricsList(metric_data)"
   ]
  },
  {
   "cell_type": "code",
   "execution_count": 11,
   "metadata": {},
   "outputs": [
    {
     "name": "stdout",
     "output_type": "stream",
     "text": [
      "11\n",
      "<class 'prometheus_api_client.metrics_list.MetricsList'>\n"
     ]
    }
   ],
   "source": [
    "print(len(metrics_object_list))\n",
    "print(type(metrics_object_list))"
   ]
  },
  {
   "cell_type": "markdown",
   "metadata": {},
   "source": [
    "Let's look at one of the items in this `MetricsList` object created."
   ]
  },
  {
   "cell_type": "code",
   "execution_count": 12,
   "metadata": {},
   "outputs": [
    {
     "name": "stdout",
     "output_type": "stream",
     "text": [
      "{\n",
      "metric_name: 'badger_disk_writes:rate1m'\n",
      "label_config: {'ae_source': 'http://prometheus-exporter-zero-0.thoth-dgraph-stage.svc:8080/debug/prometheus_metrics', 'instance': 'prometheus-aggregate-exporter-thoth-dgraph-stage.cloud.paas.psi.redhat.com:80', 'job': 'Thoth Dgraph aggregate-exporter (stage)', 'monitor': 'datahub'}\n",
      "metric_values:                                  ds    y\n",
      "0     2019-08-14 16:18:00.825000048  0.0\n",
      "1     2019-08-14 16:19:00.825000048  5.4\n",
      "2     2019-08-14 16:20:00.825000048  0.0\n",
      "3     2019-08-14 16:21:00.825000048  0.0\n",
      "4     2019-08-14 16:22:00.825000048  0.0\n",
      "...                             ...  ...\n",
      "42970 2019-09-13 16:13:00.825000048  0.0\n",
      "42971 2019-09-13 16:14:00.825000048  0.0\n",
      "42972 2019-09-13 16:15:00.825000048  0.0\n",
      "42973 2019-09-13 16:16:00.825000048  0.0\n",
      "42974 2019-09-13 16:17:00.825000048  0.0\n",
      "\n",
      "[42975 rows x 2 columns]\n",
      "}\n"
     ]
    }
   ],
   "source": [
    "m = metrics_object_list[0]\n",
    "print(m)"
   ]
  },
  {
   "cell_type": "markdown",
   "metadata": {},
   "source": [
    "However, we are only interested in the `metric_values` as this contains the timestamp and its corresponding metric value for which we want to train our machine learning model. So, lets extract only the metric values i.e the timestamp and its associated metric value."
   ]
  },
  {
   "cell_type": "code",
   "execution_count": 13,
   "metadata": {},
   "outputs": [
    {
     "name": "stdout",
     "output_type": "stream",
     "text": [
      "<class 'pandas.core.frame.DataFrame'>\n",
      "                                 ds    y\n",
      "0     2019-08-14 16:18:00.825000048  0.0\n",
      "1     2019-08-14 16:19:00.825000048  5.4\n",
      "2     2019-08-14 16:20:00.825000048  0.0\n",
      "3     2019-08-14 16:21:00.825000048  0.0\n",
      "4     2019-08-14 16:22:00.825000048  0.0\n",
      "...                             ...  ...\n",
      "42970 2019-09-13 16:13:00.825000048  0.0\n",
      "42971 2019-09-13 16:14:00.825000048  0.0\n",
      "42972 2019-09-13 16:15:00.825000048  0.0\n",
      "42973 2019-09-13 16:16:00.825000048  0.0\n",
      "42974 2019-09-13 16:17:00.825000048  0.0\n",
      "\n",
      "[42975 rows x 2 columns]\n"
     ]
    }
   ],
   "source": [
    "m_values = m.metric_values\n",
    "print(type(m_values))\n",
    "print(m_values)"
   ]
  },
  {
   "cell_type": "markdown",
   "metadata": {},
   "source": [
    "### Data Sampling\n",
    "As you can see, this data consists of metric values that are generated per **minute**, resulting in a large number of data points which may take a considerate amount of time when training the model. Hence, we will compress this data to a **hourly** frequency for the purpose of this workshop."
   ]
  },
  {
   "cell_type": "code",
   "execution_count": 14,
   "metadata": {},
   "outputs": [],
   "source": [
    "freq = '1h' # Here we are setting the frequency to hourly, but we can also set this to be half-hourly or daily etc\n",
    "\n",
    "#Converting the dataframe to a single column with the timestamp column set as index\n",
    "m_values = m_values.set_index('ds')\n",
    "\n",
    "m_values = m_values.resample(freq).mean()\n",
    "m_values = m_values.dropna()"
   ]
  },
  {
   "cell_type": "markdown",
   "metadata": {},
   "source": [
    "Let's now look at the compressed data."
   ]
  },
  {
   "cell_type": "code",
   "execution_count": 15,
   "metadata": {},
   "outputs": [
    {
     "name": "stdout",
     "output_type": "stream",
     "text": [
      "721\n",
      "                             y\n",
      "ds                            \n",
      "2019-08-14 16:00:00   4.660627\n",
      "2019-08-14 17:00:00  16.956046\n",
      "2019-08-14 18:00:00  10.935411\n",
      "2019-08-14 19:00:00  10.280431\n",
      "2019-08-14 20:00:00   1.451667\n",
      "...                        ...\n",
      "2019-09-13 12:00:00   0.000000\n",
      "2019-09-13 13:00:00   0.000000\n",
      "2019-09-13 14:00:00   0.000000\n",
      "2019-09-13 15:00:00   0.000000\n",
      "2019-09-13 16:00:00   0.000000\n",
      "\n",
      "[721 rows x 1 columns]\n"
     ]
    }
   ],
   "source": [
    "print(len(m_values))\n",
    "print(m_values)"
   ]
  },
  {
   "cell_type": "markdown",
   "metadata": {},
   "source": [
    "**Question 2**: How does the data look when we sample it differently? For example, instead of `hourly` try resampling the raw data to generate data of `daily` frequency."
   ]
  },
  {
   "cell_type": "code",
   "execution_count": 16,
   "metadata": {},
   "outputs": [],
   "source": [
    "#Answer 2\n",
    "#Load the metric values\n",
    "m_values_2 = m.metric_values\n",
    "freq = '1d' # Here we are setting the frequency to daily\n",
    "\n",
    "#Converting the dataframe to a single column with the timestamp column set as index\n",
    "m_values_2 = m_values_2.set_index('ds')\n",
    "\n",
    "m_values_2 = m_values_2.resample(freq).mean()\n",
    "m_values_2 = m_values_2.dropna()"
   ]
  },
  {
   "cell_type": "code",
   "execution_count": 17,
   "metadata": {},
   "outputs": [
    {
     "name": "stdout",
     "output_type": "stream",
     "text": [
      "31\n",
      "                    y\n",
      "ds                   \n",
      "2019-08-14   5.816687\n",
      "2019-08-15  11.683736\n",
      "2019-08-16   6.706887\n",
      "2019-08-17   1.845701\n",
      "2019-08-18   1.880578\n",
      "2019-08-19   1.915450\n",
      "2019-08-20   2.372170\n",
      "2019-08-21   2.524366\n",
      "2019-08-22   3.126685\n",
      "2019-08-23   1.766227\n",
      "2019-08-24   1.753299\n",
      "2019-08-25   1.760903\n",
      "2019-08-26   1.708502\n",
      "2019-08-27   1.788355\n",
      "2019-08-28   1.787617\n",
      "2019-08-29   1.673747\n",
      "2019-08-30   1.688683\n",
      "2019-08-31   1.725212\n",
      "2019-09-01   1.712382\n",
      "2019-09-02   1.927222\n",
      "2019-09-03   1.722292\n",
      "2019-09-04   1.711245\n",
      "2019-09-05   1.689259\n",
      "2019-09-06   1.711501\n",
      "2019-09-07   1.675469\n",
      "2019-09-08   1.644861\n",
      "2019-09-09   1.655174\n",
      "2019-09-10   1.724981\n",
      "2019-09-11   1.741487\n",
      "2019-09-12   1.685489\n",
      "2019-09-13   2.472262\n"
     ]
    }
   ],
   "source": [
    "#Let's look at the daily sampled data\n",
    "print(len(m_values_2))\n",
    "print(m_values_2)"
   ]
  },
  {
   "cell_type": "markdown",
   "metadata": {},
   "source": [
    "We now have a much smaller dataset that we can look at. For training any machine learning model, we need to first split the data into `training` and `testing` datasets. \n",
    "\n",
    "* **Training** - The actual dataset that we use to train the model. The model sees and learns from this data\n",
    "* **Testing** - The sample of data used to provide an unbiased evaluation of a final model fit on the training dataset\n",
    "\n",
    "Now that you know what these datasets do, we will split the dataset into Train and Test sets.\n",
    "\n",
    "[*As a rule of thumb, 80/20 is a good ratio to start with for splitting up the data into training and testing sets.]"
   ]
  },
  {
   "cell_type": "code",
   "execution_count": 18,
   "metadata": {},
   "outputs": [],
   "source": [
    "#Function to split the data into training and testing sets\n",
    "def split_data(dataframe):\n",
    "    #Dividing the data set into (80%)training and (20%)testing samples\n",
    "    dataframe = dataframe.sort_values(by = 'ds')\n",
    "    ratio = 0.2\n",
    "    size = int(len(dataframe) * (1-float(ratio)))\n",
    "    train, test = dataframe[0:size], dataframe[size:len(dataframe)]\n",
    "    return train, test"
   ]
  },
  {
   "cell_type": "code",
   "execution_count": 19,
   "metadata": {},
   "outputs": [],
   "source": [
    "#Let's split our hourly sampled data\n",
    "train, test = split_data(m_values)"
   ]
  },
  {
   "cell_type": "code",
   "execution_count": 20,
   "metadata": {},
   "outputs": [
    {
     "name": "stdout",
     "output_type": "stream",
     "text": [
      "576\n",
      "145\n"
     ]
    }
   ],
   "source": [
    "print(len(train))\n",
    "print(len(test))"
   ]
  },
  {
   "cell_type": "markdown",
   "metadata": {},
   "source": [
    "## Model Data\n",
    "We are now ready to train a time seriers forecasting model. Here, we will train the SARIMA model i.e. Seasonal Auto-Regressive Moving Average model.\n",
    "\n",
    "### What is SARIMA?\n",
    "Autoregressive Integrated Moving Average, or ARIMA, is one of the most widely used forecasting methods for univariate time series data forecasting. Although this method can handle data with a trend, it does not support time series with a seasonal component i.e. time series with a repeating cycle. An extension to ARIMA that supports the direct modeling of the seasonal component of the series is called SARIMA.\n",
    "\n",
    "SARIMA adds three new hyperparameters to specify the autoregression (AR), differencing (I) and moving average (MA) for the seasonal component of the series, as well as an additional parameter for the period of the seasonality.\n",
    "\n",
    "### What are hyperparameters?\n",
    "They are simply the very \"knobs\" one \"turns\" when building/tuning a statistical learning model. A model hyperparameter is a configuration that is external to the model and whose value cannot be estimated from data. These hyperparametrs effect the speed and quality of the model training process. Different model training algorithms require different hyperparameters, some simple algorithms (such as ordinary least squares regression) require none. Given these hyperparameters, the training algorithm learns the parameters from the data. \n",
    "\n",
    "We cannot know the best value for a model hyperparameter on a given problem. We may use rules of thumb, copy values used on other problems, or search for the best value by trial and error.\n",
    "\n",
    "When a machine learning algorithm is tuned for a specific problem, then you are tuning the hyperparameters of the model or order to discover the parameters of the model that result in the most skillful predictions.\n",
    "\n",
    "### How to configure SARIMA?\n",
    "Configuring a SARIMA requires selecting hyperparameters for both the trend and seasonal elements of the series. There are three **trend** elements that require configuration. These are the ones that are configured in the standard ARIMA model.\n",
    "\n",
    "* **p** - Trend autoregression order (AR part)\n",
    "\n",
    " - *It allows to incorporate the effect of past values into our model. Intuitively, this would be similar to stating that it is likely to be warm tomorrow if it has been warm the past 3 days.*\n",
    "\n",
    "* **d** - Trend difference order (I part)\n",
    "\n",
    " - *It is the number of nonseasonal differences needed for stationarity. Intuitively, this would be similar to stating that it is likely to be same temperature tomorrow if the difference in temperature in the last three days has been very small.*\n",
    "\n",
    "* **q** - Trend moving average order (MA part)\n",
    "\n",
    " - *It is the number of lagged forecast errors in the prediction equation. This allows us to set the error of our model as a linear combination of the error values observed at previous time points in the past.*\n",
    "\n",
    "There are four **seasonal** elements that are not part of ARIMA that must be configured; they are:\n",
    "\n",
    "* **P**: Seasonal autoregressive order.\n",
    "* **D**: Seasonal difference order.\n",
    "* **Q**: Seasonal moving average order.\n",
    "* **m**: The number of time steps for a single seasonal period.\n",
    "\n",
    "The Seasonal portion `(P, D, Q)m` has the same structure as the non-seasonal parts. It may — but does not have to include — an AR factor, an MA factor, and/or an I factor. In this part of the model, all of these factors operate across the number of period `(m)` in your season. This seasonality is a regular pattern of changes that repeats over `m` time periods. E.g. If there is a seasonal factor of 3 over a time series of monthly data, the pattern repeats every quarter.\n",
    "\n",
    "Put these all together and you get a `SARIMA (p, d, q) x (P, D, Q)m` which is what we’re looking to build.\n",
    "\n",
    "The exact model we’ll be using from the python package `statsmodels` is the `SARIMAX`, where `X` is the use of an exogenous explanatory variable (the X part of SARIMAX). We’re not going to get into adding exogenous variables to our model, so you can ignore this for now. The default will be `none` when we run the model as we don't have any extra variable to include at the moment.\n",
    "\n",
    "Together, the notation for a SARIMA model is specified as:\n",
    "\n",
    "```\n",
    "SARIMAX(order=(p,d,q), seasonal_order=(P,D,Q,m))\n",
    "```\n",
    "Source: http://www.statsmodels.org/dev/generated/statsmodels.tsa.statespace.sarimax.SARIMAX.html\n",
    "\n",
    "\n",
    "### Finding the hyperparameters\n",
    "In order to find the most optimized hyperparameters for the model and the given dataset, we carried out a Grid search method. Grid-searching is the process of scanning the data to configure optimal parameters for a given model. It is important to note that Grid-searching can be extremely computationally expensive and may take your machine quite a long time to run. Grid-Search will build a model on each parameter combination possible. It iterates through every parameter combination and stores a model for each combination. We then choose the model/hyperparameters which resulted in the best accuracy or low error rates. \n",
    "\n",
    "A good explanation of how this is done can be found here: https://machinelearningmastery.com/how-to-grid-search-sarima-model-hyperparameters-for-time-series-forecasting-in-python/\n",
    "\n",
    "Hence to save time and make things easier for you, we have already identified the optimized parameter values required to train the SARIMA model for this particular dataset. The values were found to be:\n",
    "* **p** = 1\n",
    "* **d** = 2\n",
    "* **q** = 2\n",
    "* **P** = 2\n",
    "* **D** = 2\n",
    "* **Q** = 2"
   ]
  },
  {
   "cell_type": "markdown",
   "metadata": {},
   "source": [
    "Now, we need to identify the relvant value for `m` which indicates the seasonality order for our data. Seasonality is the presence of any predictable fluctuation or pattern that recurs/repeats over regular intervals. For example, data with daily observations might have a weekly seasonality (frequency=7) or an annual seasonality (frequency=365.25). Similarly, data that are observed every minute might have an hourly seasonality (frequency=60), a daily seasonality (frequency=24x60=1440), a weekly seasonality (frequency=24x60x7=10080) and an annual seasonality (frequency=24x60x365.25=525960).\n",
    "\n",
    "The raw data obtained from Prometheus for the disk write metric was observed every minute and had a **daily** seasonality. So, depending on how you resample your data i.e. whether it is hourly,minutely,daily etc we can determine the corresponding daily seasonality order. For example, if the data is sampled to be `hourly` then `m = 24 (i.e. 1 day = 24 hours)`. \n",
    "\n",
    "You can read more about finding the seasonal periods here: https://robjhyndman.com/hyndsight/seasonal-periods/"
   ]
  },
  {
   "cell_type": "markdown",
   "metadata": {},
   "source": [
    "We now define the `_sarima()` function which performs the following tasks:\n",
    "    * Training the model\n",
    "    * Fitting the model\n",
    "    * Interpretting the model forecast\n",
    "    * Plotting the forecasted values\n",
    "    * Plotting the forecasted vs actual/test data values"
   ]
  },
  {
   "cell_type": "code",
   "execution_count": 21,
   "metadata": {},
   "outputs": [],
   "source": [
    "def _sarima(train, test, freq):\n",
    "    #Determining the seasonal order for the corresponding frequency of data\n",
    "    sfrequency = 0\n",
    "    if freq == '1h':\n",
    "        sfrequency = 24\n",
    "    elif freq == '30Min':\n",
    "        sfrequency = 48\n",
    "    elif freq == '15Min':\n",
    "        sfrequency = 96\n",
    "    elif freq == '1d':\n",
    "        sfrequency = 1\n",
    "        \n",
    "    model = SARIMAX(train, order=(1, 2, 2), seasonal_order=(2,2,2,sfrequency), enforce_stationarity = True, enforce_invertibility = False)\n",
    "    model_fit = model.fit(dsip=-1)\n",
    "    residuals = pd.DataFrame(model_fit.resid)\n",
    "    residuals.plot()\n",
    "    print(\"Now plotting the residual errors for the SARIMA model\")\n",
    "    plt.show()\n",
    "    residuals.plot(kind='kde')\n",
    "    print(\"Now plotting the desity of the residual error values.\")\n",
    "    plt.show()\n",
    "    print(residuals.describe())\n",
    "    K = len(test)\n",
    "\n",
    "    forecast = model_fit.forecast(K)\n",
    "    forecast = pd.DataFrame(forecast.values, columns = ['predict'], index = test.index)\n",
    "\n",
    "    plt.plot(forecast, label='forecast')\n",
    "    print(\"Now plotting the forecasted values.\")\n",
    "    plt.show()\n",
    "    plt.figure(figsize=(12,5), dpi=100)\n",
    "    plt.plot(test, label='actual')\n",
    "    plt.plot(forecast, label='forecast')\n",
    "    plt.legend(loc='upper left', fontsize=8)\n",
    "    print(\"Now plotting the forecasted vs the test data.\")\n",
    "    plt.show()\n",
    "    return model, model_fit, forecast"
   ]
  },
  {
   "cell_type": "markdown",
   "metadata": {},
   "source": [
    "Now that our SARIMA model function is defined, we can train the model with our dataset by specifying the frequency of the resampled dataset. Please wait a few minutes(~5-7min) for the model to complete training."
   ]
  },
  {
   "cell_type": "code",
   "execution_count": 22,
   "metadata": {},
   "outputs": [
    {
     "name": "stderr",
     "output_type": "stream",
     "text": [
      "/opt/app-root/lib/python3.6/site-packages/statsmodels/base/model.py:568: ConvergenceWarning: Maximum Likelihood optimization failed to converge. Check mle_retvals\n",
      "  \"Check mle_retvals\", ConvergenceWarning)\n"
     ]
    },
    {
     "name": "stdout",
     "output_type": "stream",
     "text": [
      "Now plotting the residual errors for the SARIMA model\n"
     ]
    },
    {
     "data": {
      "image/png": "[encoded data removed]",
      "text/plain": [
       "<Figure size 432x288 with 1 Axes>"
      ]
     },
     "metadata": {
      "needs_background": "light"
     },
     "output_type": "display_data"
    },
    {
     "name": "stdout",
     "output_type": "stream",
     "text": [
      "Now plotting the desity of the residual error values.\n"
     ]
    },
    {
     "data": {
      "image/png": "[encoded data removed]",
      "text/plain": [
       "<Figure size 432x288 with 1 Axes>"
      ]
     },
     "metadata": {
      "needs_background": "light"
     },
     "output_type": "display_data"
    },
    {
     "name": "stdout",
     "output_type": "stream",
     "text": [
      "                0\n",
      "count  576.000000\n",
      "mean     0.264403\n",
      "std      7.057797\n",
      "min    -53.212307\n",
      "25%     -0.524025\n",
      "50%      0.023896\n",
      "75%      0.818886\n",
      "max     54.043956\n",
      "Now plotting the forecasted values.\n"
     ]
    },
    {
     "data": {
      "image/png": "[encoded data removed]",
      "text/plain": [
       "<Figure size 432x288 with 1 Axes>"
      ]
     },
     "metadata": {
      "needs_background": "light"
     },
     "output_type": "display_data"
    },
    {
     "name": "stdout",
     "output_type": "stream",
     "text": [
      "Now plotting the forecasted vs the test data.\n"
     ]
    },
    {
     "data": {
      "image/png": "[encoded data removed]",
      "text/plain": [
       "<Figure size 1200x500 with 1 Axes>"
      ]
     },
     "metadata": {
      "needs_background": "light"
     },
     "output_type": "display_data"
    }
   ],
   "source": [
    "#Here we specify the frequency of our data i.e. whether it is minutely/hourly/daily etc data. If you resampled your data differently, remember to indicate this change here as well\n",
    "freq = '1h'\n",
    "model, model_fit, forecast = _sarima(train, test, freq)"
   ]
  },
  {
   "cell_type": "markdown",
   "metadata": {},
   "source": [
    "### Interpretting the Model Forecast\n",
    "#### Residuals\n",
    "The “residuals” in a time series model are what is left over after fitting a model. For many (but not all) time series models, the residuals are equal to the difference between the observations and the corresponding fitted values. Residuals are useful in checking whether a model has adequately captured the information in the data. \n",
    "\n",
    "Generally, when exploring residual errors we are looking for patterns or structure. A sign of a pattern suggests that the errors are not random.\n",
    "\n",
    "We expect the residual errors to be random, because it means that the model has captured all of the structure and the only error left is the random fluctuations in the time series that cannot be modeled.\n",
    "\n",
    "A sign of a pattern or structure suggests that there is more information that a model could capture and use to make better predictions.\n",
    "\n",
    "#### Residual Summary Statistics\n",
    "We can also calculate summary statistics on the residual errors to understand their distribution. This includes the mean and standard deviation of the distribution, as well as percentiles and the minimum and maximum errors observed.\n",
    "\n",
    "Primarily, we are interested in the mean value of the residual errors. A value close to zero suggests no bias in the forecasts, whereas positive and negative values suggest a positive or negative bias in the forecasts made. It is useful to know about a bias in the forecasts as it can be directly corrected in forecasts prior to their use or evaluation. Plots can be used to better understand the distribution of errors beyond summary statistics. We can use either histograms or density plots to better understand the distribution of residual errors."
   ]
  },
  {
   "cell_type": "markdown",
   "metadata": {},
   "source": [
    "**Question 3** - Try changing the hyperparameter values (p,d,q,P,D,Q,m) and see how this affects the model's performance in detecting anomalies."
   ]
  },
  {
   "cell_type": "markdown",
   "metadata": {},
   "source": [
    "**Answer 3**: In the `def _sarima(train, test, freq)` function, change the hyperparameter values and retrain the model. For example try training the model with the following parametrs: \n",
    "`p=0, d=1, q=1, P=1, D=1, Q=1`"
   ]
  },
  {
   "cell_type": "markdown",
   "metadata": {},
   "source": [
    "**Question 4** - Try to interpret the residual summary statistics obtained. Do these results suggest that the model can be further improved? [Hint: Observe whether the mean value is 0, positive or negative]"
   ]
  },
  {
   "cell_type": "markdown",
   "metadata": {},
   "source": [
    "**Answer 4**: \n",
    "* A **mean** value close to zero suggests no bias in the forecasts, whereas positive and negative values suggest a positive or negative bias in the forecasts made. If there is some bias, we may be able to further improve the model by performing a bias correction. This could be done by adding the mean residual error to forecasts. However, this is a naive form of bias correction and there are more sophisticated methods available.\n",
    "* **Density plots** can be used to better understand the distribution of errors beyond summary statistics. We would expect the forecast errors to be normally distributed around a zero mean. If the plot showed a distribution that was distinctly non-Gaussian, it would suggest that assumptions made by the modeling process were perhaps incorrect and that a different modeling method may be required."
   ]
  },
  {
   "cell_type": "markdown",
   "metadata": {},
   "source": [
    "## Model Evaluation\n",
    "Now that the model has successfully completed training, let's identify anomalies by comparing the `predicted` values with the `actual` values (test dataset). To do so, we will define `upper` and `lower` bounds based on the range of predictions made by the model. If the actual metric value does not lie within these defined bounds, we will flag that as an anomaly.\n",
    "\n",
    "* **Upper bound** - Calculated as the **sum** of the predicted value and (2x its standard deviation)\n",
    "* **Lower bound** - Calculated as the **difference** between the predicted value and (2x its standard deviation)\n",
    "* **Anomaly** - Boolean value where 1 is an anomaly and 0 is not an anomaly\n",
    "    - If, (actual value < lower bound) **or** (actual value > upper bound) then anomaly = 1\n",
    "    - Else, anomaly = 0\n",
    "    \n",
    "We can plot a graph of the **forecasted values, actual values, upper bound, lower bound and the anomaly detected** to understand how the machine learning model performed."
   ]
  },
  {
   "cell_type": "code",
   "execution_count": 23,
   "metadata": {},
   "outputs": [],
   "source": [
    "def evaluation(forecast, test):\n",
    "    #Calculating the upper and lower bounds\n",
    "    upper_bound = np.array(\n",
    "      [\n",
    "        (\n",
    "         forecast['predict'][i]\n",
    "          + (np.std(forecast[:i])*2)\n",
    "        )\n",
    "        for i in range(len(forecast))\n",
    "        ]\n",
    "    )\n",
    "\n",
    "    lower_bound = np.array(\n",
    "      [\n",
    "        (\n",
    "          forecast['predict'][i]\n",
    "          - (np.std(forecast[:i])*2)\n",
    "        )\n",
    "        for i in range(len(forecast))\n",
    "        ]\n",
    "    )\n",
    "\n",
    "    compare = test.join(forecast, how = 'outer')\n",
    "    compare = compare.dropna()\n",
    "    lower = pd.DataFrame(lower_bound, columns = [0], index = test.index)\n",
    "    upper = pd.DataFrame(upper_bound, columns = [0], index = test.index)\n",
    "\n",
    "    compare.insert(2, \"LowerBound\", lower, True)\n",
    "    compare.insert(3, \"UpperBound\", upper, True)\n",
    "    compare['WithinUpperBounds'] = compare['predict'] < compare['UpperBound']\n",
    "    compare['WithinLowerBounds'] = compare['predict'] > compare['LowerBound']\n",
    "    \n",
    "    #Detecting anomalies\n",
    "    anomaly = []\n",
    "    for i in range(len(compare)):\n",
    "        if((compare['y'][i] < compare['UpperBound'][i]) and (compare['y'][i] > compare['LowerBound'][i])):\n",
    "            anomaly.append(0)\n",
    "        else:\n",
    "            anomaly.append(1)\n",
    "    \n",
    "    compare.insert(6, \"Anomaly\", anomaly, True)\n",
    "    print(\"The final dataframe with lowerbound, upperbound and prediction value:\\n\")\n",
    "    print(compare)\n",
    "\n",
    "    plt.figure(figsize=(12,5), dpi=100)\n",
    "    plt.plot(compare['predict'], label='Predicted')\n",
    "    plt.plot(compare['LowerBound'], label='LowerBound')\n",
    "    plt.plot(compare['UpperBound'], label='UpperBound')\n",
    "    plt.plot(compare['y'], label='Actual')\n",
    "    plt.legend(loc='upper left', fontsize=8)\n",
    "    plt.show()"
   ]
  },
  {
   "cell_type": "markdown",
   "metadata": {},
   "source": [
    "Now, lets evaluate the forecasted values with the `test` data set to identify anomalies."
   ]
  },
  {
   "cell_type": "code",
   "execution_count": 24,
   "metadata": {},
   "outputs": [
    {
     "name": "stdout",
     "output_type": "stream",
     "text": [
      "The final dataframe with lowerbound, upperbound and prediction value:\n",
      "\n",
      "                            y   predict  LowerBound  UpperBound  \\\n",
      "ds                                                                \n",
      "2019-09-07 16:00:00  0.000000 -0.080008         NaN         NaN   \n",
      "2019-09-07 17:00:00  0.000000 -0.176129   -0.176129   -0.176129   \n",
      "2019-09-07 18:00:00  0.000000 -0.153486   -0.249606   -0.057365   \n",
      "2019-09-07 19:00:00  0.000000 -0.120623   -0.202682   -0.038564   \n",
      "2019-09-07 20:00:00  0.194167 -0.034828   -0.107218    0.037563   \n",
      "...                       ...       ...         ...         ...   \n",
      "2019-09-13 12:00:00  0.000000 -2.841600  -16.800181   11.116981   \n",
      "2019-09-13 13:00:00  0.000000 -2.931576  -16.852054   10.988901   \n",
      "2019-09-13 14:00:00  0.000000 -2.967924  -16.851186   10.915339   \n",
      "2019-09-13 15:00:00  0.000000 -3.086171  -16.932724   10.760383   \n",
      "2019-09-13 16:00:00  0.000000 -3.157596  -16.968513   10.653321   \n",
      "\n",
      "                     WithinUpperBounds  WithinLowerBounds  Anomaly  \n",
      "ds                                                                  \n",
      "2019-09-07 16:00:00              False              False        1  \n",
      "2019-09-07 17:00:00              False              False        1  \n",
      "2019-09-07 18:00:00               True               True        1  \n",
      "2019-09-07 19:00:00               True               True        1  \n",
      "2019-09-07 20:00:00               True               True        1  \n",
      "...                                ...                ...      ...  \n",
      "2019-09-13 12:00:00               True               True        0  \n",
      "2019-09-13 13:00:00               True               True        0  \n",
      "2019-09-13 14:00:00               True               True        0  \n",
      "2019-09-13 15:00:00               True               True        0  \n",
      "2019-09-13 16:00:00               True               True        0  \n",
      "\n",
      "[145 rows x 7 columns]\n"
     ]
    },
    {
     "data": {
      "image/png": "[encoded data removed]",
      "text/plain": [
       "<Figure size 1200x500 with 1 Axes>"
      ]
     },
     "metadata": {
      "needs_background": "light"
     },
     "output_type": "display_data"
    }
   ],
   "source": [
    "evaluation(forecast, test)"
   ]
  },
  {
   "cell_type": "markdown",
   "metadata": {},
   "source": [
    "Great, now you know how the model is trained and evaulated. Spend some more time exploring this notebook, revisitng any section you may have not understood. Try training the model with the `disk_reads` metrics instead and look at different datasets (30 days vs 90 days) to see how the model performs! :)"
   ]
  },
  {
   "cell_type": "markdown",
   "metadata": {},
   "source": [
    "# END"
   ]
  },
  {
   "cell_type": "markdown",
   "metadata": {},
   "source": [
    "We hope you enjoyed this workshop and learnt some fun stuff on leveraging AI/ML for detecting anomalies using Prometheus. Know any other interesting model that can perform time series forecasting? We would be more than happy to have your contributions towards improving this project! "
   ]
  }
 ],
 "metadata": {
  "kernelspec": {
   "display_name": "Python 3",
   "language": "python",
   "name": "python3"
  },
  "language_info": {
   "codemirror_mode": {
    "name": "ipython",
    "version": 3
   },
   "file_extension": ".py",
   "mimetype": "text/x-python",
   "name": "python",
   "nbconvert_exporter": "python",
   "pygments_lexer": "ipython3",
   "version": "3.6.3"
  }
 },
 "nbformat": 4,
 "nbformat_minor": 2
}
